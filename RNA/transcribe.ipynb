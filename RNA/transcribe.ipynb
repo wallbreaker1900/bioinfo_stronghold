{
 "cells": [
  {
   "cell_type": "markdown",
   "metadata": {},
   "source": [
    "Problem\n",
    "\n",
    "An RNA string is a string formed from the alphabet containing 'A', 'C', 'G', and 'U'.\n",
    "\n",
    "Given a DNA string t corresponding to a coding strand, its transcribed RNA string u is formed by replacing all occurrences of 'T' in t with 'U' in u.\n",
    "\n",
    "Given: A DNA string t having length at most 1000 nt.\n",
    "\n",
    "Return: The transcribed RNA string of t.\n",
    "Sample Dataset\n",
    "\n",
    "GATGGAACTTGACTACGTAAATT\n",
    "\n",
    "Sample Output\n",
    "\n",
    "GAUGGAACUUGACUACGUAAAUU"
   ]
  },
  {
   "cell_type": "code",
   "execution_count": 9,
   "metadata": {},
   "outputs": [],
   "source": [
    "def transcribe(sequence: str) -> str:\n",
    "    \"\"\"_summary_\n",
    "    Runtime:\n",
    "        O(n)\n",
    "        \n",
    "    Args:\n",
    "        sequence (str): dna sequence \n",
    "\n",
    "    Returns:\n",
    "        str: transcribed string\n",
    "    \"\"\"\n",
    "    transcribed = []\n",
    "    for n in sequence:\n",
    "        if n == \"T\":\n",
    "            transcribed.append(\"U\")\n",
    "        else:\n",
    "            transcribed.append(n)\n",
    "    return ''.join(transcribed)"
   ]
  },
  {
   "cell_type": "code",
   "execution_count": 10,
   "metadata": {},
   "outputs": [],
   "source": [
    "def main (inFile=\"None\"):\n",
    "    with open(inFile, \"r\") as f:\n",
    "        sequence = f.readline().strip()\n",
    "    with open(\"solve.txt\", \"w\") as f1:\n",
    "        f1.write(transcribe(sequence))\n",
    "  \n",
    "if __name__ == \"__main__\":\n",
    "    main(inFile=\"rosalind_rna.txt\")"
   ]
  }
 ],
 "metadata": {
  "kernelspec": {
   "display_name": "Python 3",
   "language": "python",
   "name": "python3"
  },
  "language_info": {
   "codemirror_mode": {
    "name": "ipython",
    "version": 3
   },
   "file_extension": ".py",
   "mimetype": "text/x-python",
   "name": "python",
   "nbconvert_exporter": "python",
   "pygments_lexer": "ipython3",
   "version": "3.12.0"
  }
 },
 "nbformat": 4,
 "nbformat_minor": 2
}
