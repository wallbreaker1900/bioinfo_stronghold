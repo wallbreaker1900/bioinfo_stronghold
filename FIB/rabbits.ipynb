{
 "cells": [
  {
   "cell_type": "code",
   "execution_count": null,
   "metadata": {},
   "outputs": [],
   "source": [
    "\"\"\"Problem\n",
    "\n",
    "A sequence is an ordered collection of objects (usually numbers), which are allowed to repeat. Sequences can be finite or infinite. Two examples are the finite sequence (π,−2–√,0,π)\n",
    "and the infinite sequence of odd numbers (1,3,5,7,9,…). We use the notation an to represent the n\n",
    "\n",
    "-th term of a sequence.\n",
    "\n",
    "A recurrence relation is a way of defining the terms of a sequence with respect to the values of previous terms. In the case of Fibonacci's rabbits from the introduction, any given month will contain the rabbits that were alive the previous month, plus any new offspring. A key observation is that the number of offspring in any month is equal to the number of rabbits that were alive two months prior. As a result, if Fn\n",
    "represents the number of rabbit pairs alive after the n-th month, then we obtain the Fibonacci sequence having terms Fn that are defined by the recurrence relation Fn=Fn−1+Fn−2 (with F1=F2=1\n",
    "\n",
    "to initiate the sequence). Although the sequence bears Fibonacci's name, it was known to Indian mathematicians over two millennia ago.\n",
    "\n",
    "When finding the n\n",
    "-th term of a sequence defined by a recurrence relation, we can simply use the recurrence relation to generate terms for progressively larger values of n\n",
    "\n",
    ". This problem introduces us to the computational technique of dynamic programming, which successively builds up solutions by using the answers to smaller cases.\n",
    "\n",
    "Given: Positive integers n≤40\n",
    "and k≤5\n",
    "\n",
    ".\n",
    "\n",
    "Return: The total number of rabbit pairs that will be present after n\n",
    "months, if we begin with 1 pair and in each generation, every pair of reproduction-age rabbits produces a litter of k\n",
    "\n",
    "rabbit pairs (instead of only 1 pair).\n",
    "Sample Dataset\n",
    "\n",
    "5 3\n",
    "\n",
    "Sample Output\n",
    "\n",
    "19\n",
    "\"\"\""
   ]
  },
  {
   "cell_type": "code",
   "execution_count": 1,
   "metadata": {},
   "outputs": [],
   "source": [
    "def count_rabbits(n: int, k: int) -> int:\n",
    "    \"\"\"_summary_\n",
    "\n",
    "    Args:\n",
    "        n (int): month\n",
    "        k (int): number of rabbits offering by one pair of parents\n",
    "\n",
    "    Returns:\n",
    "        int: total rabbits at given month\n",
    "    \"\"\"\n",
    "    if n == 1 or n == 2:\n",
    "        return 1\n",
    "    else:\n",
    "        return count_rabbits(n - 1, k) + k * count_rabbits(n - 2, k)"
   ]
  },
  {
   "cell_type": "code",
   "execution_count": 2,
   "metadata": {},
   "outputs": [],
   "source": [
    "def main (inFile=\"None\"):\n",
    "    with open(inFile, \"r\") as f:\n",
    "        n, k = map(int, f.readline().strip().split(\" \"))\n",
    "        \n",
    "    with open(\"solve.txt\", \"w\") as f1:\n",
    "        f1.write(str(count_rabbits(n=n, k=k)))\n",
    "        \n",
    "if __name__ == \"__main__\":\n",
    "    main(inFile=\"rosalind_fib.txt\")"
   ]
  }
 ],
 "metadata": {
  "kernelspec": {
   "display_name": "Python 3",
   "language": "python",
   "name": "python3"
  },
  "language_info": {
   "codemirror_mode": {
    "name": "ipython",
    "version": 3
   },
   "file_extension": ".py",
   "mimetype": "text/x-python",
   "name": "python",
   "nbconvert_exporter": "python",
   "pygments_lexer": "ipython3",
   "version": "3.12.0"
  }
 },
 "nbformat": 4,
 "nbformat_minor": 2
}
