{
 "cells": [
  {
   "cell_type": "markdown",
   "metadata": {},
   "source": [
    "In Rosalind's implementation, a string in FASTA format will be labeled by the ID \"Rosalind_xxxx\", where \"xxxx\" denotes a four-digit code between 0000 and 9999.\n",
    "\n",
    "Given: At most 10 DNA strings in FASTA format (of length at most 1 kbp each).\n",
    "\n",
    "Return: The ID of the string having the highest GC-content, followed by the GC-content of that string. Rosalind allows for a default error of 0.001 in all decimal answers unless otherwise stated; please see the note on absolute error below.\n",
    "Sample Dataset            \n",
    "\n",
    "Rosalind_6404         \n",
    "CCTGCGGAAGATCGGCACTAGAATAGCCAGAACCGTTTCTCTGAGGCTTCCGGCCTTCCC             \n",
    "TCCCACTAATAATTCTGAGG          \n",
    "Rosalind_5959             \n",
    "CCATCGGTAGCGCATCCTTAGTCCAATTAAGTCCCTATCCAGGCGCTCCGCCGAAGGTCT\n",
    "ATATCCATTTGTCAGCAGACACGC               \n",
    "Rosalind_0808          \n",
    "CCACCCTCGTGGTATGGCTAGGCATTCAGGAACCGGAGAACGCTTCAGACCAGCCCGGAC\n",
    "TGGGAACCTGCGGGCAGTAGGTGGAAT         \n",
    "\n",
    "Sample Output\n",
    "\n",
    "Rosalind_0808\n",
    "60.919540\n"
   ]
  },
  {
   "cell_type": "code",
   "execution_count": 37,
   "metadata": {},
   "outputs": [],
   "source": [
    "def get_gc_content(s: str) -> float:\n",
    "    \"\"\"_summary_\n",
    "\n",
    "    Args:\n",
    "        s (str): sequence\n",
    "\n",
    "    Returns:\n",
    "        float: GC-content\n",
    "    \"\"\"\n",
    "    counts = 0\n",
    "    for nc in s:\n",
    "        if nc == \"G\" or nc == \"C\": counts += 1\n",
    "\n",
    "    return 100*(counts/len(s))\n",
    "        "
   ]
  },
  {
   "cell_type": "code",
   "execution_count": 38,
   "metadata": {},
   "outputs": [],
   "source": [
    "def main (inFile=\"None\"):\n",
    "    cur_highest_counts = 0\n",
    "    cur_highest_name = \"\"\n",
    "    identifier, sequence = \"\", \"\"\n",
    "    with open(inFile, \"r\") as f:\n",
    "        for line in f:\n",
    "            if line.startswith(\">\"): \n",
    "                # sequence above the next new sequence\n",
    "                if len(sequence) != 0:\n",
    "                    counts = get_gc_content(sequence)\n",
    "                    if counts > cur_highest_counts:\n",
    "                        cur_highest_counts = counts\n",
    "                        cur_highest_name = identifier\n",
    "                # 重置 sequence\n",
    "                sequence = \"\"\n",
    "                identifier = line[1:]\n",
    "            else:\n",
    "                sequence += line.strip()          \n",
    "        # Handle the last sequence\n",
    "        if len(sequence) != 0:\n",
    "            counts = get_gc_content(sequence)\n",
    "            if counts > cur_highest_counts:\n",
    "                cur_highest_counts = counts\n",
    "                cur_highest_name = identifier\n",
    "                   \n",
    "    with open(\"solve.txt\", \"w\") as f1:\n",
    "        f1.write(cur_highest_name)\n",
    "        f1.write(str(cur_highest_counts))\n",
    "        \n",
    "if __name__ == \"__main__\":\n",
    "    main(inFile=\"rosalind_gc.txt\")"
   ]
  }
 ],
 "metadata": {
  "kernelspec": {
   "display_name": "Python 3",
   "language": "python",
   "name": "python3"
  },
  "language_info": {
   "codemirror_mode": {
    "name": "ipython",
    "version": 3
   },
   "file_extension": ".py",
   "mimetype": "text/x-python",
   "name": "python",
   "nbconvert_exporter": "python",
   "pygments_lexer": "ipython3",
   "version": "3.12.0"
  }
 },
 "nbformat": 4,
 "nbformat_minor": 2
}
