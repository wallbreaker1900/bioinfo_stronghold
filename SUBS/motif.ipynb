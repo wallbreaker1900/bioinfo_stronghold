{
 "cells": [
  {
   "cell_type": "markdown",
   "metadata": {},
   "source": [
    "Given: Two DNA strings s and t (each of length at most 1 kbp).\n",
    "Return: All locations of tvas a substring of s.\n",
    "Sample Dataset\n",
    "\n",
    "GATATATGCATATACTT\n",
    "ATAT\n",
    "\n",
    "Sample Output\n",
    "\n",
    "2 4 10"
   ]
  },
  {
   "cell_type": "code",
   "execution_count": 12,
   "metadata": {},
   "outputs": [],
   "source": [
    "def find_motif_brute_force(t: str, s: str) -> list:\n",
    "    \"\"\"_summary_\n",
    "\n",
    "    Args:\n",
    "        t (str): sequence\n",
    "        s (str): motif\n",
    "\n",
    "    Returns:\n",
    "        list: list of motif starting position on sequence\n",
    "    \"\"\"\n",
    "    k = len(s)\n",
    "    res = []\n",
    "    for i in range(0, len(t) - k + 1):\n",
    "        block = t[i : i + k]\n",
    "        if block == s:\n",
    "            res.append(i + 1)\n",
    "            \n",
    "    return res\n",
    "            \n",
    "    "
   ]
  },
  {
   "cell_type": "code",
   "execution_count": 13,
   "metadata": {},
   "outputs": [],
   "source": [
    "def main (inFile=\"None\"):\n",
    "    with open(inFile, \"r\") as f:\n",
    "        t = f.readline().strip()\n",
    "        s = f.readline().strip()\n",
    "    with open(\"solve.txt\", \"w\") as f1:\n",
    "        f1.write(\" \".join(map(str, find_motif_brute_force(t=t, s=s))))\n",
    "if __name__ == \"__main__\":\n",
    "    main(inFile=\"rosalind_subs.txt\")"
   ]
  }
 ],
 "metadata": {
  "kernelspec": {
   "display_name": "Python 3",
   "language": "python",
   "name": "python3"
  },
  "language_info": {
   "codemirror_mode": {
    "name": "ipython",
    "version": 3
   },
   "file_extension": ".py",
   "mimetype": "text/x-python",
   "name": "python",
   "nbconvert_exporter": "python",
   "pygments_lexer": "ipython3",
   "version": "3.12.0"
  }
 },
 "nbformat": 4,
 "nbformat_minor": 2
}
