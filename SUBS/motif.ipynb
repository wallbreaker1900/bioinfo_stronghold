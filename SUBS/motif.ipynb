{
 "cells": [
  {
   "cell_type": "code",
   "execution_count": null,
   "metadata": {},
   "outputs": [],
   "source": [
    "\"\"\"Given: Two DNA strings s and t (each of length at most 1 kbp).\n",
    "Return: All locations of tvas a substring of s.\n",
    "Sample Dataset\n",
    "\n",
    "GATATATGCATATACTT\n",
    "ATAT\n",
    "\n",
    "Sample Output\n",
    "\n",
    "2 4 10\n",
    "\"\"\""
   ]
  },
  {
   "cell_type": "code",
   "execution_count": null,
   "metadata": {},
   "outputs": [],
   "source": [
    "def find_motif_brute_force(t: str, s: str) -> list:\n",
    "    \"\"\"_summary_\n",
    "\n",
    "    Args:\n",
    "        t (str): sequence\n",
    "        s (str): motif\n",
    "\n",
    "    Returns:\n",
    "        list: list of motif starting position on sequence\n",
    "    \"\"\"\n",
    "    "
   ]
  },
  {
   "cell_type": "code",
   "execution_count": null,
   "metadata": {},
   "outputs": [],
   "source": [
    "def main (inFile=\"None\"):\n",
    "    with open(inFile, \"r\") as f:\n",
    "        t = f.readline().strip()\n",
    "        s = f.readline().strip()\n",
    "    with open(\"solve.txt\", \"w\") as f1:\n",
    "        f1.write()\n",
    "if __name__ == \"__main__\":\n",
    "    main(inFile=\"rosalind_hamm.txt\")"
   ]
  }
 ],
 "metadata": {
  "language_info": {
   "name": "python"
  }
 },
 "nbformat": 4,
 "nbformat_minor": 2
}
