{
 "cells": [
  {
   "cell_type": "code",
   "execution_count": null,
   "metadata": {},
   "outputs": [],
   "source": [
    "\"\"\"Problem\n",
    "Given: Positive integers n≤100 and m≤20.\n",
    "\n",
    "Return: The total number of pairs of rabbits that will remain after the n-th month if all rabbits live for m months.\n",
    "Sample Dataset\n",
    "\n",
    "6 3\n",
    "\n",
    "Sample Output\n",
    "\n",
    "4\n",
    "\"\"\""
   ]
  },
  {
   "cell_type": "code",
   "execution_count": 7,
   "metadata": {},
   "outputs": [],
   "source": [
    "def count_rabbits(n: int, m: int) -> int:\n",
    "    \"\"\"_summary_\n",
    "\n",
    "    Args:\n",
    "        n (int): month\n",
    "        m (int): rabbits live for m months\n",
    "    Returns:\n",
    "        int: total number of pairs of rabbits remain after nth month\n",
    "    \"\"\"\n",
    "    age = [0] * m # a wheel \n",
    "    age[0] = 1 # F1\n",
    "    for _ in range(2, n + 1):\n",
    "        new = sum(age[1:]) # new born except age 0 month rabbit which cannot reproduce\n",
    "        age = [new] + age[:-1] # remove lived m - 1 month rabbits and add new born\n",
    "    return sum(age)\n",
    "    "
   ]
  },
  {
   "cell_type": "code",
   "execution_count": 8,
   "metadata": {},
   "outputs": [],
   "source": [
    "def main (inFile=\"None\"):\n",
    "    with open(inFile, \"r\") as f:\n",
    "        n, m = map(int, f.readline().strip().split(\" \"))\n",
    "        \n",
    "    with open(\"solve.txt\", \"w\") as f1:\n",
    "        f1.write(str(count_rabbits(n=n, m=m)))\n",
    "        \n",
    "if __name__ == \"__main__\":\n",
    "    main(inFile=\"rosalind_fibd.txt\")"
   ]
  }
 ],
 "metadata": {
  "kernelspec": {
   "display_name": "Python 3",
   "language": "python",
   "name": "python3"
  },
  "language_info": {
   "codemirror_mode": {
    "name": "ipython",
    "version": 3
   },
   "file_extension": ".py",
   "mimetype": "text/x-python",
   "name": "python",
   "nbconvert_exporter": "python",
   "pygments_lexer": "ipython3",
   "version": "3.12.0"
  }
 },
 "nbformat": 4,
 "nbformat_minor": 2
}
