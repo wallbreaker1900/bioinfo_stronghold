{
 "cells": [
  {
   "cell_type": "code",
   "execution_count": null,
   "metadata": {},
   "outputs": [],
   "source": [
    "\"\"\"Problem\n",
    "\n",
    "In DNA strings, symbols 'A' and 'T' are complements of each other, as are 'C' and 'G'.\n",
    "\n",
    "The reverse complement of a DNA string s\n",
    "is the string sc formed by reversing the symbols of s\n",
    "\n",
    ", then taking the complement of each symbol (e.g., the reverse complement of \"GTCA\" is \"TGAC\").\n",
    "\n",
    "Given: A DNA string s\n",
    "\n",
    "of length at most 1000 bp.\n",
    "\n",
    "Return: The reverse complement sc\n",
    "of s\n",
    "\n",
    ".\n",
    "Sample Dataset\n",
    "\n",
    "AAAACCCGGT\n",
    "\n",
    "Sample Output\n",
    "\n",
    "ACCGGGTTTT\n",
    "\"\"\""
   ]
  },
  {
   "cell_type": "code",
   "execution_count": 16,
   "metadata": {},
   "outputs": [],
   "source": [
    "from collections import deque\n",
    "\n",
    "rc = {\n",
    "    \"A\": \"T\",\n",
    "    \"C\": \"G\",\n",
    "    \"G\": \"C\",  \n",
    "    \"T\": \"A\",\n",
    "}\n",
    "\n",
    "def get_reverse_complement(sequence: str) -> list:\n",
    "    \"\"\"_summary_\n",
    "    Runtime:\n",
    "        O(n)\n",
    "\n",
    "    Args:\n",
    "        sequence (str): sequence string\n",
    "\n",
    "    Returns:\n",
    "        list: list of reversed complement\n",
    "    \"\"\"\n",
    "    res = deque()\n",
    "    for n in sequence:\n",
    "        res.appendleft(rc[n])\n",
    "    return list(res)\n",
    "    "
   ]
  },
  {
   "cell_type": "code",
   "execution_count": 17,
   "metadata": {},
   "outputs": [],
   "source": [
    "def main (inFile=\"None\"):\n",
    "    with open(inFile, \"r\") as f:\n",
    "        sequence = f.readline().strip()\n",
    "    with open(\"solve.txt\", \"w\") as f1:\n",
    "        f1.write(\"\".join(get_reverse_complement(sequence=sequence)))\n",
    "if __name__ == \"__main__\":\n",
    "    main(inFile=\"rosalind_revc.txt\")"
   ]
  }
 ],
 "metadata": {
  "kernelspec": {
   "display_name": "Python 3",
   "language": "python",
   "name": "python3"
  },
  "language_info": {
   "codemirror_mode": {
    "name": "ipython",
    "version": 3
   },
   "file_extension": ".py",
   "mimetype": "text/x-python",
   "name": "python",
   "nbconvert_exporter": "python",
   "pygments_lexer": "ipython3",
   "version": "3.12.0"
  }
 },
 "nbformat": 4,
 "nbformat_minor": 2
}
