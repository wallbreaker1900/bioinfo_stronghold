{
 "cells": [
  {
   "cell_type": "markdown",
   "metadata": {},
   "source": [
    "Problem\n",
    "Given: A DNA string s of length at most 1000 bp.\n",
    "\n",
    "Return: The reverse complement sc of s.\n",
    "Sample Dataset\n",
    "\n",
    "AAAACCCGGT\n",
    "\n",
    "Sample Output\n",
    "\n",
    "ACCGGGTTTT"
   ]
  },
  {
   "cell_type": "code",
   "execution_count": 1,
   "metadata": {},
   "outputs": [],
   "source": [
    "from collections import deque\n",
    "\n",
    "rc = {\n",
    "    \"A\": \"T\",\n",
    "    \"C\": \"G\",\n",
    "    \"G\": \"C\",  \n",
    "    \"T\": \"A\",\n",
    "}\n",
    "\n",
    "def get_reverse_complement(sequence: str) -> list:\n",
    "    \"\"\"_summary_\n",
    "    Runtime:\n",
    "        O(n)\n",
    "\n",
    "    Args:\n",
    "        sequence (str): sequence string\n",
    "\n",
    "    Returns:\n",
    "        list: list of reversed complement\n",
    "    \"\"\"\n",
    "    res = deque()\n",
    "    for n in sequence:\n",
    "        res.appendleft(rc[n])\n",
    "    return list(res)\n",
    "    "
   ]
  },
  {
   "cell_type": "code",
   "execution_count": 2,
   "metadata": {},
   "outputs": [],
   "source": [
    "def main (inFile=\"None\"):\n",
    "    with open(inFile, \"r\") as f:\n",
    "        sequence = f.readline().strip()\n",
    "    with open(\"solve.txt\", \"w\") as f1:\n",
    "        f1.write(\"\".join(get_reverse_complement(sequence=sequence)))\n",
    "if __name__ == \"__main__\":\n",
    "    main(inFile=\"rosalind_revc.txt\")"
   ]
  }
 ],
 "metadata": {
  "kernelspec": {
   "display_name": "Python 3",
   "language": "python",
   "name": "python3"
  },
  "language_info": {
   "codemirror_mode": {
    "name": "ipython",
    "version": 3
   },
   "file_extension": ".py",
   "mimetype": "text/x-python",
   "name": "python",
   "nbconvert_exporter": "python",
   "pygments_lexer": "ipython3",
   "version": "3.12.0"
  }
 },
 "nbformat": 4,
 "nbformat_minor": 2
}
