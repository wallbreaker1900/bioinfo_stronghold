{
 "cells": [
  {
   "cell_type": "code",
   "execution_count": 4,
   "metadata": {},
   "outputs": [
    {
     "data": {
      "text/plain": [
       "'Problem\\n\\nA string is simply an ordered collection of symbols selected from some alphabet and formed into a word; the length of a string is the number of symbols that it contains.\\n\\nAn example of a length 21 DNA string (whose alphabet contains the symbols \\'A\\', \\'C\\', \\'G\\', and \\'T\\') is \"ATGCTTCAGAAAGGTCTTACG.\"\\n\\nGiven: A DNA string s\\n\\nof length at most 1000 nt.\\n\\nReturn: Four integers (separated by spaces) counting the respective number of times that the symbols \\'A\\', \\'C\\', \\'G\\', and \\'T\\' occur in s\\n\\n.\\nSample Dataset\\n\\nAGCTTTTCATTCTGACTGCAACGGGCAATATGTCTCTGTGTGGATTAAAAAAAGAGTGTCTGATAGCAGC\\n\\nSample Output\\n\\n20 12 17 21\\n'"
      ]
     },
     "execution_count": 4,
     "metadata": {},
     "output_type": "execute_result"
    }
   ],
   "source": [
    "\"\"\"Problem\n",
    "\n",
    "A string is simply an ordered collection of symbols selected from some alphabet and formed into a word; the length of a string is the number of symbols that it contains.\n",
    "\n",
    "An example of a length 21 DNA string (whose alphabet contains the symbols 'A', 'C', 'G', and 'T') is \"ATGCTTCAGAAAGGTCTTACG.\"\n",
    "\n",
    "Given: A DNA string s\n",
    "\n",
    "of length at most 1000 nt.\n",
    "\n",
    "Return: Four integers (separated by spaces) counting the respective number of times that the symbols 'A', 'C', 'G', and 'T' occur in s\n",
    "\n",
    ".\n",
    "Sample Dataset\n",
    "\n",
    "AGCTTTTCATTCTGACTGCAACGGGCAATATGTCTCTGTGTGGATTAAAAAAAGAGTGTCTGATAGCAGC\n",
    "\n",
    "Sample Output\n",
    "\n",
    "20 12 17 21\n",
    "\"\"\""
   ]
  },
  {
   "cell_type": "code",
   "execution_count": 5,
   "metadata": {},
   "outputs": [],
   "source": [
    "def count_nucleotides(sequence: str) -> tuple:\n",
    "    \"\"\"_summary_\n",
    "\n",
    "    Runtime:\n",
    "        O(n)\n",
    "        \n",
    "    Args:\n",
    "        sequence (str): sequence input\n",
    "\n",
    "    Returns:\n",
    "        tuple: counts of A', 'C', 'G', and 'T'\n",
    "    \"\"\"\n",
    "    \n",
    "    nucleotide_counts = {'A': 0, 'C': 0, 'G': 0, 'T': 0}\n",
    "\n",
    "    for nucleotide in sequence:\n",
    "        if nucleotide in nucleotide_counts:\n",
    "            nucleotide_counts[nucleotide] += 1\n",
    "\n",
    "    return nucleotide_counts['A'], nucleotide_counts['C'], nucleotide_counts['G'], nucleotide_counts['T']"
   ]
  },
  {
   "cell_type": "code",
   "execution_count": 6,
   "metadata": {},
   "outputs": [],
   "source": [
    "def main (inFile=\"None\"):\n",
    "    with open(inFile, \"r\") as f:\n",
    "        sequence = f.readline().strip()\n",
    "    with open(\"solve.txt\", \"w\") as f1:\n",
    "        f1.write(\" \".join(str(count) for count in count_nucleotides(sequence)))\n",
    "  \n",
    "if __name__ == \"__main__\":\n",
    "    main(inFile=\"rosalind_dna.txt\")"
   ]
  }
 ],
 "metadata": {
  "kernelspec": {
   "display_name": "Python 3",
   "language": "python",
   "name": "python3"
  },
  "language_info": {
   "codemirror_mode": {
    "name": "ipython",
    "version": 3
   },
   "file_extension": ".py",
   "mimetype": "text/x-python",
   "name": "python",
   "nbconvert_exporter": "python",
   "pygments_lexer": "ipython3",
   "version": "3.12.0"
  }
 },
 "nbformat": 4,
 "nbformat_minor": 2
}
