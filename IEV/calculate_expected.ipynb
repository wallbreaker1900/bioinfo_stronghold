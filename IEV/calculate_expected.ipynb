{
 "cells": [
  {
   "cell_type": "markdown",
   "metadata": {},
   "source": [
    "Given: Six nonnegative integers, each of which does not exceed 20,000. The integers correspond to the number of couples in a population possessing each genotype pairing for a given factor. In order, the six given integers represent the number of couples having the following genotypes:\n",
    "\n",
    "    AA-AA\n",
    "    AA-Aa\n",
    "    AA-aa\n",
    "    Aa-Aa\n",
    "    Aa-aa\n",
    "    aa-aa\n",
    "\n",
    "Return: The expected number of offspring displaying the dominant phenotype in the next generation, under the assumption that every couple has exactly two offspring.\n",
    "Sample Dataset\n",
    "\n",
    "1 0 0 1 0 1\n",
    "\n",
    "Sample Output\n",
    "\n",
    "3.5\n"
   ]
  },
  {
   "cell_type": "code",
   "execution_count": 1,
   "metadata": {},
   "outputs": [],
   "source": [
    "def calculate_expected_offspring(a, b, c, d, e, f) -> float:\n",
    "    \"\"\"_summary_\n",
    "\n",
    "    Args:\n",
    "        a (int): number of pair AA-AA\n",
    "        b (int): number of pair AA-Aa\n",
    "        c (int): number of pair AA-aa\n",
    "        d (int): number of pair Aa-Aa\n",
    "        e (int): number of pair Aa-aa\n",
    "        f (int): number of pair aa-aa\n",
    "    \n",
    "    Return:\n",
    "        float: expected offsprings\n",
    "    \"\"\"\n",
    "    return 2 * (a*1 + 1*b + 1*c + 0.75*d + 0.5*e + 0*f)\n",
    "    "
   ]
  },
  {
   "cell_type": "code",
   "execution_count": 2,
   "metadata": {},
   "outputs": [],
   "source": [
    "def main (inFile=\"None\"):\n",
    "    with open(inFile, \"r\") as f0:\n",
    "        a, b, c, d, e, f = map(int, f0.readline().strip().split(\" \"))\n",
    "    with open(\"solve.txt\", \"w\") as f1:\n",
    "        f1.write(str(calculate_expected_offspring(a, b, c, d, e, f)))\n",
    "if __name__ == \"__main__\":\n",
    "    main(inFile=\"rosalind_iev.txt\")"
   ]
  }
 ],
 "metadata": {
  "kernelspec": {
   "display_name": "Python 3",
   "language": "python",
   "name": "python3"
  },
  "language_info": {
   "codemirror_mode": {
    "name": "ipython",
    "version": 3
   },
   "file_extension": ".py",
   "mimetype": "text/x-python",
   "name": "python",
   "nbconvert_exporter": "python",
   "pygments_lexer": "ipython3",
   "version": "3.12.0"
  }
 },
 "nbformat": 4,
 "nbformat_minor": 2
}
