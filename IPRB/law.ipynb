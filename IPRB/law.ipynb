{
 "cells": [
  {
   "cell_type": "code",
   "execution_count": null,
   "metadata": {},
   "outputs": [],
   "source": [
    "\"\"\"\n",
    "Given: Three positive integers k, m, and n, representing a population containing k+m+n organisms: k individuals are homozygous dominant for a factor, m are heterozygous, and n\n",
    "\n",
    "are homozygous recessive.\n",
    "\n",
    "Return: The probability that two randomly selected mating organisms will produce an individual possessing a dominant allele (and thus displaying the dominant phenotype). Assume that any two organisms can mate.\n",
    "Sample Dataset\n",
    "\n",
    "2 2 2\n",
    "\n",
    "Sample Output\n",
    "\n",
    "0.78333\n",
    "\"\"\""
   ]
  },
  {
   "cell_type": "code",
   "execution_count": 1,
   "metadata": {},
   "outputs": [],
   "source": [
    "def calculate_dominant_probability(k: int, m: int, n: int) -> float:\n",
    "    \"\"\"_summary_\n",
    "\n",
    "    Args:\n",
    "        k (_type_): individuals are homozygous dominant for a factor\n",
    "        m (_type_): heterozygous\n",
    "        n (_type_): homozygous recessive\n",
    "\n",
    "    Returns:\n",
    "        The probability that two randomly selected mating organisms will produce an individual possessing a dominant allele\n",
    "    \"\"\"\n",
    "    total_population = k + m + n\n",
    "    total_pairings = total_population * (total_population - 1) / 2\n",
    "\n",
    "    # Calculate favorable pairings\n",
    "    kk = k * (k - 1) / 2  # Both homozygous dominant\n",
    "    km = k * m  # Homozygous dominant with heterozygous\n",
    "    kn = k * n  # Homozygous dominant with homozygous recessive\n",
    "    mm = m * (m - 1) / 2 * 0.75  # Both heterozygous (75% chance of dominant allele)\n",
    "    mn = m * n * 0.5  # Heterozygous with homozygous recessive (50% chance of dominant allele)\n",
    "\n",
    "    favorable_pairings = kk + km + kn + mm + mn\n",
    "\n",
    "    # Calculate the probability\n",
    "    probability = favorable_pairings / total_pairings\n",
    "\n",
    "    return probability"
   ]
  },
  {
   "cell_type": "code",
   "execution_count": 2,
   "metadata": {},
   "outputs": [],
   "source": [
    "def main (inFile=\"None\"):\n",
    "    with open(inFile, \"r\") as f:\n",
    "        k, m, n = map(int, f.readline().strip().split(\" \"))\n",
    "    with open(\"solve.txt\", \"w\") as f1:\n",
    "        f1.write(str(calculate_dominant_probability(k=k, m=m, n=n)))\n",
    "if __name__ == \"__main__\":\n",
    "    main(inFile=\"rosalind_iprb.txt\")"
   ]
  }
 ],
 "metadata": {
  "kernelspec": {
   "display_name": "Python 3",
   "language": "python",
   "name": "python3"
  },
  "language_info": {
   "codemirror_mode": {
    "name": "ipython",
    "version": 3
   },
   "file_extension": ".py",
   "mimetype": "text/x-python",
   "name": "python",
   "nbconvert_exporter": "python",
   "pygments_lexer": "ipython3",
   "version": "3.12.0"
  }
 },
 "nbformat": 4,
 "nbformat_minor": 2
}
