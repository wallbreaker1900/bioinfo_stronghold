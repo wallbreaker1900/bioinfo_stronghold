{
 "cells": [
  {
   "cell_type": "code",
   "execution_count": null,
   "metadata": {},
   "outputs": [],
   "source": [
    "\"\"\"\n",
    "Given: Three positive integers k, m, and n, representing a population containing k+m+n organisms: k individuals are homozygous dominant for a factor, m are heterozygous, and n\n",
    "\n",
    "are homozygous recessive.\n",
    "\n",
    "Return: The probability that two randomly selected mating organisms will produce an individual possessing a dominant allele (and thus displaying the dominant phenotype). Assume that any two organisms can mate.\n",
    "Sample Dataset\n",
    "\n",
    "2 2 2\n",
    "\n",
    "Sample Output\n",
    "\n",
    "0.78333\n",
    "\"\"\""
   ]
  },
  {
   "cell_type": "code",
   "execution_count": null,
   "metadata": {},
   "outputs": [],
   "source": []
  },
  {
   "cell_type": "code",
   "execution_count": null,
   "metadata": {},
   "outputs": [],
   "source": [
    "def main (inFile=\"None\"):\n",
    "    with open(inFile, \"r\") as f:\n",
    "        sequence = f.readline().strip()\n",
    "    with open(\"solve.txt\", \"w\") as f1:\n",
    "        f1.write(\"\".join(get_reverse_complement(sequence=sequence)))\n",
    "if __name__ == \"__main__\":\n",
    "    main(inFile=\"rosalind_revc.txt\")"
   ]
  }
 ],
 "metadata": {
  "language_info": {
   "name": "python"
  }
 },
 "nbformat": 4,
 "nbformat_minor": 2
}
