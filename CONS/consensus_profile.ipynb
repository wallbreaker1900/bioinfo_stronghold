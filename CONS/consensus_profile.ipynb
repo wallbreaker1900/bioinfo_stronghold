{
 "cells": [
  {
   "cell_type": "markdown",
   "metadata": {},
   "source": [
    "Given: A collection of at most 10 DNA strings of equal length (at most 1 kbp) in FASTA format.\n",
    "\n",
    "Return: A consensus string and profile matrix for the collection. (If several possible consensus strings exist, then you may return any one of them.)\n",
    "Sample Dataset\n",
    "\n",
    ">Rosalind_1         \n",
    "ATCCAGCT          \n",
    ">Rosalind_2           \n",
    "GGGCAACT              \n",
    ">Rosalind_3          \n",
    "ATGGATCT            \n",
    ">Rosalind_4           \n",
    "AAGCAACC            \n",
    ">Rosalind_5          \n",
    "TTGGAACT            \n",
    ">Rosalind_6             \n",
    "ATGCCATT            \n",
    ">Rosalind_7          \n",
    "ATGGCACT              \n",
    "\n",
    "Sample Output\n",
    "\n",
    "ATGCAACT           \n",
    "A: 5 1 0 0 5 5 0 0             \n",
    "C: 0 0 1 4 2 0 6 1          \n",
    "G: 1 1 6 3 0 1 0 0        \n",
    "T: 1 5 0 0 0 1 1 6            \n"
   ]
  },
  {
   "cell_type": "code",
   "execution_count": null,
   "metadata": {},
   "outputs": [],
   "source": []
  },
  {
   "cell_type": "code",
   "execution_count": null,
   "metadata": {},
   "outputs": [],
   "source": [
    "def main (inFile=\"None\"):\n",
    "    cur_highest_counts = 0\n",
    "    cur_highest_name = \"\"\n",
    "    identifier, sequence = \"\", \"\"\n",
    "    with open(inFile, \"r\") as f:\n",
    "        for line in f:\n",
    "            if line.startswith(\">\"): \n",
    "                # sequence above the next new sequence\n",
    "                if len(sequence) != 0:\n",
    "                    counts = get_gc_content(sequence)\n",
    "                    if counts > cur_highest_counts:\n",
    "                        cur_highest_counts = counts\n",
    "                        cur_highest_name = identifier\n",
    "                # 重置 sequence\n",
    "                sequence = \"\"\n",
    "                identifier = line[1:]\n",
    "            else:\n",
    "                sequence += line.strip()          \n",
    "        # Handle the last sequence\n",
    "        if len(sequence) != 0:\n",
    "            counts = get_gc_content(sequence)\n",
    "            if counts > cur_highest_counts:\n",
    "                cur_highest_counts = counts\n",
    "                cur_highest_name = identifier\n",
    "                   \n",
    "    with open(\"solve.txt\", \"w\") as f1:\n",
    "        f1.write(cur_highest_name)\n",
    "        f1.write(str(cur_highest_counts))\n",
    "        \n",
    "if __name__ == \"__main__\":\n",
    "    main(inFile=\"rosalind_cons.txt\")"
   ]
  }
 ],
 "metadata": {
  "language_info": {
   "name": "python"
  }
 },
 "nbformat": 4,
 "nbformat_minor": 2
}
