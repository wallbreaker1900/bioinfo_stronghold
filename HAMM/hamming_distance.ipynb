{
 "cells": [
  {
   "cell_type": "markdown",
   "metadata": {},
   "source": [
    "Problem\n",
    "Given: Two DNA strings s and t of equal length (not exceeding 1 kbp).\n",
    "Return: The Hamming distance dH(s,t).\n",
    "Sample Dataset\n",
    "\n",
    "GAGCCTACTAACGGGAT\n",
    "CATCGTAATGACGGCCT\n",
    "\n",
    "Sample Output\n",
    "\n",
    "7"
   ]
  },
  {
   "cell_type": "code",
   "execution_count": 1,
   "metadata": {},
   "outputs": [],
   "source": [
    "def get_hm(s: str, t: str) -> int:\n",
    "    \"\"\"get hamming distance\n",
    "\n",
    "    Args:\n",
    "        s (str): seq\n",
    "        t (str): seq\n",
    "\n",
    "    Returns:\n",
    "        int: hamming distance\n",
    "    \"\"\"\n",
    "    count = 0\n",
    "    for i in range(len(s)):\n",
    "        if s[i] != t[i]:\n",
    "            count += 1\n",
    "\n",
    "    return count"
   ]
  },
  {
   "cell_type": "code",
   "execution_count": 2,
   "metadata": {},
   "outputs": [],
   "source": [
    "def main (inFile=\"None\"):\n",
    "    with open(inFile, \"r\") as f:\n",
    "        s = f.readline().strip()\n",
    "        t = f.readline().strip()\n",
    "    with open(\"solve.txt\", \"w\") as f1:\n",
    "        f1.write(str(get_hm(s=s, t=t)))\n",
    "if __name__ == \"__main__\":\n",
    "    main(inFile=\"rosalind_hamm.txt\")"
   ]
  }
 ],
 "metadata": {
  "kernelspec": {
   "display_name": "Python 3",
   "language": "python",
   "name": "python3"
  },
  "language_info": {
   "codemirror_mode": {
    "name": "ipython",
    "version": 3
   },
   "file_extension": ".py",
   "mimetype": "text/x-python",
   "name": "python",
   "nbconvert_exporter": "python",
   "pygments_lexer": "ipython3",
   "version": "3.12.0"
  }
 },
 "nbformat": 4,
 "nbformat_minor": 2
}
